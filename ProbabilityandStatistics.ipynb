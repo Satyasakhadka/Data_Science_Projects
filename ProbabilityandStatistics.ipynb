{
 "cells": [
  {
   "cell_type": "markdown",
   "id": "0ebf48db-9b98-4fb6-8785-1ecad0f9258e",
   "metadata": {
    "id": "0ebf48db-9b98-4fb6-8785-1ecad0f9258e"
   },
   "source": [
    "### Topics to be discussed.\n",
    "- Mean, Median, Mode and their relationship ==> Skewed Right, symmetric, Skewed Left\n",
    "- Range, verience, standard deviation\n",
    "- Normal distribution and standard deviation (1 standard deviation of the mean- 68%, 2 standard deviation 95%, 3 standard deviation 99.7%...)\n",
    "- Z-score (standard deviation 1, mean = 0, z-score= number of sd)\n",
    "- Inter quatile range.\n",
    "- Statistical testing (t-test, one way, two way)\n",
    "- Correlation\n",
    "- Hypotheis testing"
   ]
  },
  {
   "cell_type": "markdown",
   "id": "fa5ea51e-77e6-4b23-9c7b-4bd33ddfb51b",
   "metadata": {
    "id": "fa5ea51e-77e6-4b23-9c7b-4bd33ddfb51b"
   },
   "source": [
    "### Problem 1: Mean, Median, Mode\n",
    "A retail company wants to analyze the sales data of its top-selling product over the past year to gain insights into customer purchasing behavior. The company has collected daily sales data for this product and wants to understand the central tendency of sales figures. By calculating the mean, median, and mode of the sales data, the company aims to identify patterns, understand typical sales volumes, and detect any skewness or anomalies in the sales distribution. Generate the daily sales data for a year by yourself. Analyze the result.\n",
    "- use daily_sales.csv"
   ]
  },
  {
   "cell_type": "code",
   "execution_count": 1,
   "id": "11a7e76d-5a27-4863-bf4e-4d1846d20fb3",
   "metadata": {
    "id": "11a7e76d-5a27-4863-bf4e-4d1846d20fb3"
   },
   "outputs": [],
   "source": [
    "import pandas as pd\n",
    "import numpy as np"
   ]
  },
  {
   "cell_type": "code",
   "execution_count": 2,
   "id": "405f4673-51a5-4575-9f5f-2026e5c0c792",
   "metadata": {
    "id": "405f4673-51a5-4575-9f5f-2026e5c0c792"
   },
   "outputs": [],
   "source": [
    "df1=pd.read_csv('/Users/pc/Downloads/daily_sales.csv')"
   ]
  },
  {
   "cell_type": "code",
   "execution_count": 3,
   "id": "c625dfa3",
   "metadata": {},
   "outputs": [
    {
     "data": {
      "text/html": [
       "<div>\n",
       "<style scoped>\n",
       "    .dataframe tbody tr th:only-of-type {\n",
       "        vertical-align: middle;\n",
       "    }\n",
       "\n",
       "    .dataframe tbody tr th {\n",
       "        vertical-align: top;\n",
       "    }\n",
       "\n",
       "    .dataframe thead th {\n",
       "        text-align: right;\n",
       "    }\n",
       "</style>\n",
       "<table border=\"1\" class=\"dataframe\">\n",
       "  <thead>\n",
       "    <tr style=\"text-align: right;\">\n",
       "      <th></th>\n",
       "      <th>Daily Sales</th>\n",
       "    </tr>\n",
       "  </thead>\n",
       "  <tbody>\n",
       "    <tr>\n",
       "      <th>0</th>\n",
       "      <td>23</td>\n",
       "    </tr>\n",
       "    <tr>\n",
       "      <th>1</th>\n",
       "      <td>15</td>\n",
       "    </tr>\n",
       "    <tr>\n",
       "      <th>2</th>\n",
       "      <td>21</td>\n",
       "    </tr>\n",
       "    <tr>\n",
       "      <th>3</th>\n",
       "      <td>25</td>\n",
       "    </tr>\n",
       "    <tr>\n",
       "      <th>4</th>\n",
       "      <td>15</td>\n",
       "    </tr>\n",
       "    <tr>\n",
       "      <th>5</th>\n",
       "      <td>17</td>\n",
       "    </tr>\n",
       "    <tr>\n",
       "      <th>6</th>\n",
       "      <td>19</td>\n",
       "    </tr>\n",
       "    <tr>\n",
       "      <th>7</th>\n",
       "      <td>21</td>\n",
       "    </tr>\n",
       "    <tr>\n",
       "      <th>8</th>\n",
       "      <td>17</td>\n",
       "    </tr>\n",
       "    <tr>\n",
       "      <th>9</th>\n",
       "      <td>19</td>\n",
       "    </tr>\n",
       "  </tbody>\n",
       "</table>\n",
       "</div>"
      ],
      "text/plain": [
       "   Daily Sales\n",
       "0           23\n",
       "1           15\n",
       "2           21\n",
       "3           25\n",
       "4           15\n",
       "5           17\n",
       "6           19\n",
       "7           21\n",
       "8           17\n",
       "9           19"
      ]
     },
     "execution_count": 3,
     "metadata": {},
     "output_type": "execute_result"
    }
   ],
   "source": [
    "df1.head(10)"
   ]
  },
  {
   "cell_type": "code",
   "execution_count": 4,
   "id": "3e99a83c",
   "metadata": {},
   "outputs": [
    {
     "data": {
      "text/plain": [
       "Daily Sales    19.69589\n",
       "dtype: float64"
      ]
     },
     "execution_count": 4,
     "metadata": {},
     "output_type": "execute_result"
    }
   ],
   "source": [
    "#mean\n",
    "df1.mean()"
   ]
  },
  {
   "cell_type": "code",
   "execution_count": 5,
   "id": "315be554",
   "metadata": {},
   "outputs": [
    {
     "data": {
      "text/plain": [
       "Daily Sales    20.0\n",
       "dtype: float64"
      ]
     },
     "execution_count": 5,
     "metadata": {},
     "output_type": "execute_result"
    }
   ],
   "source": [
    "#median\n",
    "df1.median()"
   ]
  },
  {
   "cell_type": "code",
   "execution_count": 6,
   "id": "32701758",
   "metadata": {},
   "outputs": [
    {
     "data": {
      "text/html": [
       "<div>\n",
       "<style scoped>\n",
       "    .dataframe tbody tr th:only-of-type {\n",
       "        vertical-align: middle;\n",
       "    }\n",
       "\n",
       "    .dataframe tbody tr th {\n",
       "        vertical-align: top;\n",
       "    }\n",
       "\n",
       "    .dataframe thead th {\n",
       "        text-align: right;\n",
       "    }\n",
       "</style>\n",
       "<table border=\"1\" class=\"dataframe\">\n",
       "  <thead>\n",
       "    <tr style=\"text-align: right;\">\n",
       "      <th></th>\n",
       "      <th>Daily Sales</th>\n",
       "    </tr>\n",
       "  </thead>\n",
       "  <tbody>\n",
       "    <tr>\n",
       "      <th>0</th>\n",
       "      <td>22</td>\n",
       "    </tr>\n",
       "  </tbody>\n",
       "</table>\n",
       "</div>"
      ],
      "text/plain": [
       "   Daily Sales\n",
       "0           22"
      ]
     },
     "execution_count": 6,
     "metadata": {},
     "output_type": "execute_result"
    }
   ],
   "source": [
    "#mode\n",
    "df1.mode()"
   ]
  },
  {
   "cell_type": "code",
   "execution_count": 7,
   "id": "38f51d83",
   "metadata": {},
   "outputs": [
    {
     "data": {
      "image/png": "[encoded data removed]",
      "text/plain": [
       "<Figure size 1000x600 with 1 Axes>"
      ]
     },
     "metadata": {},
     "output_type": "display_data"
    }
   ],
   "source": [
    "import seaborn as sns\n",
    "import matplotlib.pyplot as plt\n",
    "plt.figure(figsize=(10, 6))\n",
    "sns.boxplot(x=df1['Daily Sales'])\n",
    "plt.title('Box Plot of Daily Sales')\n",
    "plt.ylabel('Sales')\n",
    "plt.show()"
   ]
  },
  {
   "cell_type": "markdown",
   "id": "235b12ce-6db8-4711-bbb3-ffe3c5794357",
   "metadata": {
    "id": "235b12ce-6db8-4711-bbb3-ffe3c5794357"
   },
   "source": [
    "### Problem 2: Data distribution and plots\n",
    "You are tasked with analyzing the average monthly sales data of a retail store chain over the past year to determine if there has been a significant change in sales compared to the previous year. This analysis will help the store management understand the performance trends and plan future strategies accordingly. Load sales_data.csv.\n",
    "- find mean sales\n",
    "- find median sales\n",
    "- find mode sales\n",
    "- find skewness\n",
    "- plot histogram\n",
    "- density plot"
   ]
  },
  {
   "cell_type": "code",
   "execution_count": 8,
   "id": "7bebeb25-26f2-4a70-a04f-c9554f92c5ab",
   "metadata": {
    "id": "7bebeb25-26f2-4a70-a04f-c9554f92c5ab"
   },
   "outputs": [],
   "source": [
    "df2=pd.read_csv('/Users/pc/Downloads/sales_data.csv')"
   ]
  },
  {
   "cell_type": "code",
   "execution_count": 9,
   "id": "b91b767b-d66c-4a2c-8651-e22ad1d68733",
   "metadata": {
    "id": "b91b767b-d66c-4a2c-8651-e22ad1d68733"
   },
   "outputs": [
    {
     "data": {
      "text/html": [
       "<div>\n",
       "<style scoped>\n",
       "    .dataframe tbody tr th:only-of-type {\n",
       "        vertical-align: middle;\n",
       "    }\n",
       "\n",
       "    .dataframe tbody tr th {\n",
       "        vertical-align: top;\n",
       "    }\n",
       "\n",
       "    .dataframe thead th {\n",
       "        text-align: right;\n",
       "    }\n",
       "</style>\n",
       "<table border=\"1\" class=\"dataframe\">\n",
       "  <thead>\n",
       "    <tr style=\"text-align: right;\">\n",
       "      <th></th>\n",
       "      <th>Month</th>\n",
       "      <th>Sales</th>\n",
       "    </tr>\n",
       "  </thead>\n",
       "  <tbody>\n",
       "    <tr>\n",
       "      <th>0</th>\n",
       "      <td>2023-01-31</td>\n",
       "      <td>15292.157038</td>\n",
       "    </tr>\n",
       "    <tr>\n",
       "      <th>1</th>\n",
       "      <td>2023-02-28</td>\n",
       "      <td>11200.471625</td>\n",
       "    </tr>\n",
       "    <tr>\n",
       "      <th>2</th>\n",
       "      <td>2023-03-31</td>\n",
       "      <td>12936.213952</td>\n",
       "    </tr>\n",
       "    <tr>\n",
       "      <th>3</th>\n",
       "      <td>2023-04-30</td>\n",
       "      <td>16722.679598</td>\n",
       "    </tr>\n",
       "    <tr>\n",
       "      <th>4</th>\n",
       "      <td>2023-05-31</td>\n",
       "      <td>15602.673970</td>\n",
       "    </tr>\n",
       "  </tbody>\n",
       "</table>\n",
       "</div>"
      ],
      "text/plain": [
       "        Month         Sales\n",
       "0  2023-01-31  15292.157038\n",
       "1  2023-02-28  11200.471625\n",
       "2  2023-03-31  12936.213952\n",
       "3  2023-04-30  16722.679598\n",
       "4  2023-05-31  15602.673970"
      ]
     },
     "execution_count": 9,
     "metadata": {},
     "output_type": "execute_result"
    }
   ],
   "source": [
    "df2.head()"
   ]
  },
  {
   "cell_type": "code",
   "execution_count": 10,
   "id": "b774cc7c",
   "metadata": {},
   "outputs": [
    {
     "data": {
      "text/plain": [
       "12244.63719635305"
      ]
     },
     "execution_count": 10,
     "metadata": {},
     "output_type": "execute_result"
    }
   ],
   "source": [
    "#mean\n",
    "df2['Sales'].mean()"
   ]
  },
  {
   "cell_type": "code",
   "execution_count": 11,
   "id": "d7ee4cc4",
   "metadata": {},
   "outputs": [
    {
     "data": {
      "text/plain": [
       "-0.07734448027250686"
      ]
     },
     "execution_count": 11,
     "metadata": {},
     "output_type": "execute_result"
    }
   ],
   "source": [
    "#skewness\n",
    "df2['Sales'].skew()"
   ]
  },
  {
   "cell_type": "markdown",
   "id": "b3988e16",
   "metadata": {},
   "source": [
    "Since the skew is negative so the data is **left_skewed**."
   ]
  },
  {
   "cell_type": "code",
   "execution_count": 12,
   "id": "fe5b6ed6",
   "metadata": {},
   "outputs": [
    {
     "data": {
      "text/plain": [
       "<BarContainer object of 12 artists>"
      ]
     },
     "execution_count": 12,
     "metadata": {},
     "output_type": "execute_result"
    },
    {
     "data": {
      "image/png": "[encoded data removed]",
      "text/plain": [
       "<Figure size 640x480 with 1 Axes>"
      ]
     },
     "metadata": {},
     "output_type": "display_data"
    }
   ],
   "source": [
    "import matplotlib.pyplot as plt\n",
    "fig,ax=plt.subplots()\n",
    "ax.bar(df2.index,df2[\"Sales\"])"
   ]
  },
  {
   "cell_type": "code",
   "execution_count": 13,
   "id": "0687cd43",
   "metadata": {},
   "outputs": [
    {
     "data": {
      "image/png": "[encoded data removed]",
      "text/plain": [
       "<Figure size 640x480 with 1 Axes>"
      ]
     },
     "metadata": {},
     "output_type": "display_data"
    }
   ],
   "source": [
    "#densityplot\n",
    "df2['Sales'].plot.density(color='green') \n",
    "plt.title('Density plot for Sales') \n",
    "plt.show()"
   ]
  },
  {
   "cell_type": "markdown",
   "id": "e8ac4216-ce5a-4f85-9a8d-37dcb6302e3d",
   "metadata": {
    "id": "e8ac4216-ce5a-4f85-9a8d-37dcb6302e3d"
   },
   "source": [
    "### Problem 3: Outlier detection\n",
    "A university wants to analyze the exam scores of a statistics class to identify any students whose scores are significantly different from the rest. Detecting outliers will help the university provide additional support to struggling students or recognize exceptionally high performers. The university decides to use both the Z-score and the Interquartile Range (IQR) methods to identify these outliers in the exam scores dataset.\n",
    "- Generate the subject score for full mark 100 for 50 students.\n",
    "\n",
    "Hints:\n",
    "- Z-score is greater than 3.\n",
    "- below - Q1−1.5×IQR or above Q3+1.5×IQR"
   ]
  },
  {
   "cell_type": "code",
   "execution_count": 14,
   "id": "6e0a737c-3786-4b62-a432-ac3625c663fc",
   "metadata": {
    "id": "6e0a737c-3786-4b62-a432-ac3625c663fc"
   },
   "outputs": [
    {
     "name": "stdout",
     "output_type": "stream",
     "text": [
      "[23 19 47 11 17  9 68 66 39 72 98 54  8 53 44 54 47 68 51 63 68 86  2 64\n",
      " 40 16 76 74 28 42 13 29 62 98 62 95 11 45 76 91 82 84 47 54 23 37 34 73\n",
      " 40 54]\n",
      "[ 1  2  3  4  5  6  7  8  9 10 11 12 13 14 15 16 17 18 19 20 21 22 23 24\n",
      " 25 26 27 28 29 30 31 32 33 34 35 36 37 38 39 40 41 42 43 44 45 46 47 48\n",
      " 49 50]\n"
     ]
    }
   ],
   "source": [
    "np.random.seed(73)\n",
    "no_of_student=50\n",
    "# Generate random coffee sales data (between 50 and 300 cups)\n",
    "marks = np.random.randint(1, 100, size=no_of_student)\n",
    "print(marks)\n",
    "student_id=np.linspace(1,50,no_of_student,dtype=int)\n",
    "print(student_id)\n",
    "data1 = {\n",
    "    'Roll': student_id,\n",
    "    'Marks': marks\n",
    "}\n",
    "df3 = pd.DataFrame(data1)"
   ]
  },
  {
   "cell_type": "code",
   "execution_count": 15,
   "id": "6e7fd3f2-34b5-4635-8e90-994e180e9017",
   "metadata": {
    "id": "6e7fd3f2-34b5-4635-8e90-994e180e9017"
   },
   "outputs": [
    {
     "data": {
      "text/html": [
       "<div>\n",
       "<style scoped>\n",
       "    .dataframe tbody tr th:only-of-type {\n",
       "        vertical-align: middle;\n",
       "    }\n",
       "\n",
       "    .dataframe tbody tr th {\n",
       "        vertical-align: top;\n",
       "    }\n",
       "\n",
       "    .dataframe thead th {\n",
       "        text-align: right;\n",
       "    }\n",
       "</style>\n",
       "<table border=\"1\" class=\"dataframe\">\n",
       "  <thead>\n",
       "    <tr style=\"text-align: right;\">\n",
       "      <th></th>\n",
       "      <th>Roll</th>\n",
       "      <th>Marks</th>\n",
       "    </tr>\n",
       "  </thead>\n",
       "  <tbody>\n",
       "    <tr>\n",
       "      <th>0</th>\n",
       "      <td>1</td>\n",
       "      <td>23</td>\n",
       "    </tr>\n",
       "    <tr>\n",
       "      <th>1</th>\n",
       "      <td>2</td>\n",
       "      <td>19</td>\n",
       "    </tr>\n",
       "    <tr>\n",
       "      <th>2</th>\n",
       "      <td>3</td>\n",
       "      <td>47</td>\n",
       "    </tr>\n",
       "    <tr>\n",
       "      <th>3</th>\n",
       "      <td>4</td>\n",
       "      <td>11</td>\n",
       "    </tr>\n",
       "    <tr>\n",
       "      <th>4</th>\n",
       "      <td>5</td>\n",
       "      <td>17</td>\n",
       "    </tr>\n",
       "  </tbody>\n",
       "</table>\n",
       "</div>"
      ],
      "text/plain": [
       "   Roll  Marks\n",
       "0     1     23\n",
       "1     2     19\n",
       "2     3     47\n",
       "3     4     11\n",
       "4     5     17"
      ]
     },
     "execution_count": 15,
     "metadata": {},
     "output_type": "execute_result"
    }
   ],
   "source": [
    "df3.head()"
   ]
  },
  {
   "cell_type": "code",
   "execution_count": 16,
   "id": "3b7e322e",
   "metadata": {},
   "outputs": [
    {
     "data": {
      "text/html": [
       "<div>\n",
       "<style scoped>\n",
       "    .dataframe tbody tr th:only-of-type {\n",
       "        vertical-align: middle;\n",
       "    }\n",
       "\n",
       "    .dataframe tbody tr th {\n",
       "        vertical-align: top;\n",
       "    }\n",
       "\n",
       "    .dataframe thead th {\n",
       "        text-align: right;\n",
       "    }\n",
       "</style>\n",
       "<table border=\"1\" class=\"dataframe\">\n",
       "  <thead>\n",
       "    <tr style=\"text-align: right;\">\n",
       "      <th></th>\n",
       "      <th>Roll</th>\n",
       "      <th>Marks</th>\n",
       "      <th>Z_score</th>\n",
       "    </tr>\n",
       "  </thead>\n",
       "  <tbody>\n",
       "    <tr>\n",
       "      <th>0</th>\n",
       "      <td>1</td>\n",
       "      <td>23</td>\n",
       "      <td>-1.048328</td>\n",
       "    </tr>\n",
       "    <tr>\n",
       "      <th>1</th>\n",
       "      <td>2</td>\n",
       "      <td>19</td>\n",
       "      <td>-1.201704</td>\n",
       "    </tr>\n",
       "    <tr>\n",
       "      <th>2</th>\n",
       "      <td>3</td>\n",
       "      <td>47</td>\n",
       "      <td>-0.128069</td>\n",
       "    </tr>\n",
       "    <tr>\n",
       "      <th>3</th>\n",
       "      <td>4</td>\n",
       "      <td>11</td>\n",
       "      <td>-1.508457</td>\n",
       "    </tr>\n",
       "    <tr>\n",
       "      <th>4</th>\n",
       "      <td>5</td>\n",
       "      <td>17</td>\n",
       "      <td>-1.278392</td>\n",
       "    </tr>\n",
       "  </tbody>\n",
       "</table>\n",
       "</div>"
      ],
      "text/plain": [
       "   Roll  Marks   Z_score\n",
       "0     1     23 -1.048328\n",
       "1     2     19 -1.201704\n",
       "2     3     47 -0.128069\n",
       "3     4     11 -1.508457\n",
       "4     5     17 -1.278392"
      ]
     },
     "execution_count": 16,
     "metadata": {},
     "output_type": "execute_result"
    }
   ],
   "source": [
    "# Calculate Z-scores\n",
    "df3['Z_score'] = (df3['Marks'] - df3['Marks'].mean()) / df3['Marks'].std()\n",
    "df3.head()\n"
   ]
  },
  {
   "cell_type": "code",
   "execution_count": 17,
   "id": "0f62bcd0",
   "metadata": {},
   "outputs": [
    {
     "data": {
      "text/html": [
       "<div>\n",
       "<style scoped>\n",
       "    .dataframe tbody tr th:only-of-type {\n",
       "        vertical-align: middle;\n",
       "    }\n",
       "\n",
       "    .dataframe tbody tr th {\n",
       "        vertical-align: top;\n",
       "    }\n",
       "\n",
       "    .dataframe thead th {\n",
       "        text-align: right;\n",
       "    }\n",
       "</style>\n",
       "<table border=\"1\" class=\"dataframe\">\n",
       "  <thead>\n",
       "    <tr style=\"text-align: right;\">\n",
       "      <th></th>\n",
       "      <th>Roll</th>\n",
       "      <th>Marks</th>\n",
       "      <th>Z_score</th>\n",
       "      <th>Z_score_outlier</th>\n",
       "    </tr>\n",
       "  </thead>\n",
       "  <tbody>\n",
       "    <tr>\n",
       "      <th>0</th>\n",
       "      <td>1</td>\n",
       "      <td>23</td>\n",
       "      <td>-1.048328</td>\n",
       "      <td>False</td>\n",
       "    </tr>\n",
       "    <tr>\n",
       "      <th>1</th>\n",
       "      <td>2</td>\n",
       "      <td>19</td>\n",
       "      <td>-1.201704</td>\n",
       "      <td>False</td>\n",
       "    </tr>\n",
       "    <tr>\n",
       "      <th>2</th>\n",
       "      <td>3</td>\n",
       "      <td>47</td>\n",
       "      <td>-0.128069</td>\n",
       "      <td>False</td>\n",
       "    </tr>\n",
       "    <tr>\n",
       "      <th>3</th>\n",
       "      <td>4</td>\n",
       "      <td>11</td>\n",
       "      <td>-1.508457</td>\n",
       "      <td>False</td>\n",
       "    </tr>\n",
       "    <tr>\n",
       "      <th>4</th>\n",
       "      <td>5</td>\n",
       "      <td>17</td>\n",
       "      <td>-1.278392</td>\n",
       "      <td>False</td>\n",
       "    </tr>\n",
       "  </tbody>\n",
       "</table>\n",
       "</div>"
      ],
      "text/plain": [
       "   Roll  Marks   Z_score  Z_score_outlier\n",
       "0     1     23 -1.048328            False\n",
       "1     2     19 -1.201704            False\n",
       "2     3     47 -0.128069            False\n",
       "3     4     11 -1.508457            False\n",
       "4     5     17 -1.278392            False"
      ]
     },
     "execution_count": 17,
     "metadata": {},
     "output_type": "execute_result"
    }
   ],
   "source": [
    "# Threshold for Z-score outliers (absolute Z-score > 3)\n",
    "z_score_threshold = 3\n",
    "\n",
    "# Identify outliers based on Z-score\n",
    "df3['Z_score_outlier'] = (np.abs(df3['Z_score']) > z_score_threshold)\n",
    "df3.head()"
   ]
  },
  {
   "cell_type": "code",
   "execution_count": 18,
   "id": "12215d50",
   "metadata": {},
   "outputs": [
    {
     "data": {
      "text/html": [
       "<div>\n",
       "<style scoped>\n",
       "    .dataframe tbody tr th:only-of-type {\n",
       "        vertical-align: middle;\n",
       "    }\n",
       "\n",
       "    .dataframe tbody tr th {\n",
       "        vertical-align: top;\n",
       "    }\n",
       "\n",
       "    .dataframe thead th {\n",
       "        text-align: right;\n",
       "    }\n",
       "</style>\n",
       "<table border=\"1\" class=\"dataframe\">\n",
       "  <thead>\n",
       "    <tr style=\"text-align: right;\">\n",
       "      <th></th>\n",
       "      <th>Roll</th>\n",
       "      <th>Marks</th>\n",
       "      <th>Z_score</th>\n",
       "      <th>Z_score_outlier</th>\n",
       "      <th>IQR_outlier</th>\n",
       "    </tr>\n",
       "  </thead>\n",
       "  <tbody>\n",
       "    <tr>\n",
       "      <th>14</th>\n",
       "      <td>15</td>\n",
       "      <td>44</td>\n",
       "      <td>-0.243102</td>\n",
       "      <td>False</td>\n",
       "      <td>False</td>\n",
       "    </tr>\n",
       "    <tr>\n",
       "      <th>4</th>\n",
       "      <td>5</td>\n",
       "      <td>17</td>\n",
       "      <td>-1.278392</td>\n",
       "      <td>False</td>\n",
       "      <td>False</td>\n",
       "    </tr>\n",
       "    <tr>\n",
       "      <th>24</th>\n",
       "      <td>25</td>\n",
       "      <td>40</td>\n",
       "      <td>-0.396478</td>\n",
       "      <td>False</td>\n",
       "      <td>False</td>\n",
       "    </tr>\n",
       "    <tr>\n",
       "      <th>15</th>\n",
       "      <td>16</td>\n",
       "      <td>54</td>\n",
       "      <td>0.140339</td>\n",
       "      <td>False</td>\n",
       "      <td>False</td>\n",
       "    </tr>\n",
       "    <tr>\n",
       "      <th>49</th>\n",
       "      <td>50</td>\n",
       "      <td>54</td>\n",
       "      <td>0.140339</td>\n",
       "      <td>False</td>\n",
       "      <td>False</td>\n",
       "    </tr>\n",
       "    <tr>\n",
       "      <th>21</th>\n",
       "      <td>22</td>\n",
       "      <td>86</td>\n",
       "      <td>1.367350</td>\n",
       "      <td>False</td>\n",
       "      <td>False</td>\n",
       "    </tr>\n",
       "    <tr>\n",
       "      <th>10</th>\n",
       "      <td>11</td>\n",
       "      <td>98</td>\n",
       "      <td>1.827480</td>\n",
       "      <td>False</td>\n",
       "      <td>False</td>\n",
       "    </tr>\n",
       "    <tr>\n",
       "      <th>7</th>\n",
       "      <td>8</td>\n",
       "      <td>66</td>\n",
       "      <td>0.600469</td>\n",
       "      <td>False</td>\n",
       "      <td>False</td>\n",
       "    </tr>\n",
       "    <tr>\n",
       "      <th>42</th>\n",
       "      <td>43</td>\n",
       "      <td>47</td>\n",
       "      <td>-0.128069</td>\n",
       "      <td>False</td>\n",
       "      <td>False</td>\n",
       "    </tr>\n",
       "    <tr>\n",
       "      <th>34</th>\n",
       "      <td>35</td>\n",
       "      <td>62</td>\n",
       "      <td>0.447092</td>\n",
       "      <td>False</td>\n",
       "      <td>False</td>\n",
       "    </tr>\n",
       "    <tr>\n",
       "      <th>12</th>\n",
       "      <td>13</td>\n",
       "      <td>8</td>\n",
       "      <td>-1.623489</td>\n",
       "      <td>False</td>\n",
       "      <td>False</td>\n",
       "    </tr>\n",
       "    <tr>\n",
       "      <th>44</th>\n",
       "      <td>45</td>\n",
       "      <td>23</td>\n",
       "      <td>-1.048328</td>\n",
       "      <td>False</td>\n",
       "      <td>False</td>\n",
       "    </tr>\n",
       "    <tr>\n",
       "      <th>33</th>\n",
       "      <td>34</td>\n",
       "      <td>98</td>\n",
       "      <td>1.827480</td>\n",
       "      <td>False</td>\n",
       "      <td>False</td>\n",
       "    </tr>\n",
       "    <tr>\n",
       "      <th>41</th>\n",
       "      <td>42</td>\n",
       "      <td>84</td>\n",
       "      <td>1.290662</td>\n",
       "      <td>False</td>\n",
       "      <td>False</td>\n",
       "    </tr>\n",
       "    <tr>\n",
       "      <th>28</th>\n",
       "      <td>29</td>\n",
       "      <td>28</td>\n",
       "      <td>-0.856607</td>\n",
       "      <td>False</td>\n",
       "      <td>False</td>\n",
       "    </tr>\n",
       "  </tbody>\n",
       "</table>\n",
       "</div>"
      ],
      "text/plain": [
       "    Roll  Marks   Z_score  Z_score_outlier  IQR_outlier\n",
       "14    15     44 -0.243102            False        False\n",
       "4      5     17 -1.278392            False        False\n",
       "24    25     40 -0.396478            False        False\n",
       "15    16     54  0.140339            False        False\n",
       "49    50     54  0.140339            False        False\n",
       "21    22     86  1.367350            False        False\n",
       "10    11     98  1.827480            False        False\n",
       "7      8     66  0.600469            False        False\n",
       "42    43     47 -0.128069            False        False\n",
       "34    35     62  0.447092            False        False\n",
       "12    13      8 -1.623489            False        False\n",
       "44    45     23 -1.048328            False        False\n",
       "33    34     98  1.827480            False        False\n",
       "41    42     84  1.290662            False        False\n",
       "28    29     28 -0.856607            False        False"
      ]
     },
     "execution_count": 18,
     "metadata": {},
     "output_type": "execute_result"
    }
   ],
   "source": [
    "# Calculate IQR\n",
    "q1 = df3['Marks'].quantile(0.25)\n",
    "q3 = df3['Marks'].quantile(0.75)\n",
    "iqr = q3 - q1\n",
    "\n",
    "# Define the outlier bounds using IQR\n",
    "lower_bound = q1 - 1.5 * iqr\n",
    "upper_bound = q3 + 1.5 * iqr\n",
    "\n",
    "# Identify outliers based on IQR\n",
    "df3['IQR_outlier'] = (df3['Marks'] < lower_bound) | (df3['Marks'] > upper_bound)\n",
    "df3.sample(15)\n"
   ]
  },
  {
   "cell_type": "markdown",
   "id": "fc5f431d-5d13-4e7d-8723-66be2ae00eba",
   "metadata": {
    "id": "fc5f431d-5d13-4e7d-8723-66be2ae00eba"
   },
   "source": [
    "### Problem 4: t-test for ML models\n",
    "Your task is to write Python code to perform t-tests on the testing results of five different machine learning algorithms. First, generate testing results for each of the five models, with each model having results for 50 test sets. Then, using these generated results, conduct t-tests to compare the results of the first model with those of each of the remaining four models. The goal is to determine if there is a statistically significant difference between the performance of the first model and each of the other models. Finally, print the results of each t-test, which will include the t-statistic and p-value for each comparison. And analyze the result whether the methods are statistically significant or not. What does it mean?"
   ]
  },
  {
   "cell_type": "code",
   "execution_count": 19,
   "id": "30004282-3e27-49f4-aa53-1a54a014b00c",
   "metadata": {
    "id": "30004282-3e27-49f4-aa53-1a54a014b00c"
   },
   "outputs": [],
   "source": [
    "import numpy as np \n",
    "import pandas as pd\n",
    "np.random.seed(42)\n",
    "num_test=5\n",
    "num_sample=50\n",
    "sample={}\n",
    "for i in range(num_test):\n",
    "  model_name=f\"model_{i+1}\"\n",
    "  sample[model_name]=np.random.rand(num_sample)*100\n",
    "\n",
    "sample_df=pd.DataFrame(sample)\n"
   ]
  },
  {
   "cell_type": "code",
   "execution_count": 20,
   "id": "f88a75f2-e368-45b5-aef0-69c8d15a754c",
   "metadata": {
    "id": "f88a75f2-e368-45b5-aef0-69c8d15a754c"
   },
   "outputs": [
    {
     "name": "stdout",
     "output_type": "stream",
     "text": [
      "              model_2   model_3   model_4   model_5\n",
      "t-statistic -0.813994 -0.552033 -1.233453 -1.171967\n",
      "p-value      0.417622  0.582182  0.220357  0.244051\n"
     ]
    }
   ],
   "source": [
    "from scipy import stats\n",
    "model_1name='model_1'\n",
    "t_test_result={}\n",
    "for model_name in sample_df.columns:\n",
    "  if model_name!=model_1name:\n",
    "    t_value,p_value=stats.ttest_ind(sample_df[model_1name],sample_df[model_name])\n",
    "    t_test_result[model_name] = {'t-statistic': t_value, 'p-value': p_value}\n",
    "t_result_df=pd.DataFrame(t_test_result)\n",
    "print(t_result_df)\n"
   ]
  },
  {
   "cell_type": "markdown",
   "id": "7959857f",
   "metadata": {},
   "source": [
    "Based on the t-test results comparing the performance of Model 1 with Models 2, 3, 4, and 5, we conclude that there are no statistically significant differences in performance between Model 1 and the other models. "
   ]
  },
  {
   "cell_type": "markdown",
   "id": "3baad4ae",
   "metadata": {},
   "source": [
    "The t-test results show that the p-values for comparing Model 1 with Models 2, 3, 4, and 5 are all above 0.05 (0.417622, 0.582182, 0.220357, and 0.244051, respectively). This means there is no statistically significant difference between Model 1 and the other models. Any differences in performance are likely due to chance, so we can say that Model 1 performs similarly to Models 2, 3, 4, and 5."
   ]
  },
  {
   "cell_type": "markdown",
   "id": "9724abb7-177d-48de-bde6-03a909335d66",
   "metadata": {
    "id": "9724abb7-177d-48de-bde6-03a909335d66"
   },
   "source": [
    "### Problem 5: Correlation Analysis\n",
    "- A coffee shop owner wants to determine whether there is a relationship between the amount of coffee sold and the temperature outside. The owner collects data on the number of cups of coffee sold and the temperature outside for 20 days.\n",
    "- Download mtcars.csv file and perform the correlation analysis. See the result and analyze it. Also plot the heatmap for it."
   ]
  },
  {
   "cell_type": "code",
   "execution_count": 22,
   "id": "8a74882b-de2b-4a1b-ba7a-516b7cf16fe7",
   "metadata": {
    "id": "8a74882b-de2b-4a1b-ba7a-516b7cf16fe7"
   },
   "outputs": [
    {
     "name": "stdout",
     "output_type": "stream",
     "text": [
      "         Day  Coffee_Sales  Temperature\n",
      "0 2023-01-01           152    -9.073698\n",
      "1 2023-01-02           229    33.645943\n",
      "2 2023-01-03           142    27.459919\n",
      "3 2023-01-04            64    -0.444740\n",
      "4 2023-01-05           156    -1.817876\n"
     ]
    }
   ],
   "source": [
    "# Set the random seed for reproducibility\n",
    "np.random.seed(42)\n",
    "\n",
    "# Generate the number of days\n",
    "num_days = 20\n",
    "\n",
    "# Generate random coffee sales data (between 50 and 300 cups)\n",
    "coffee_sales = np.random.randint(50, 301, size=num_days)\n",
    "\n",
    "# Generate random temperature data (between -10 and 35 degrees Celsius)\n",
    "temperature = np.random.uniform(-10, 35, size=num_days)\n",
    "\n",
    "# Create the DataFrame\n",
    "data = {\n",
    "    'Day': pd.date_range(start='2023-01-01', periods=num_days, freq='D'),\n",
    "    'Coffee_Sales': coffee_sales,\n",
    "    'Temperature': temperature\n",
    "}\n",
    "df5a = pd.DataFrame(data)\n",
    "\n",
    "# Display the first few rows of the DataFrame\n",
    "print(df5a.head())"
   ]
  },
  {
   "cell_type": "code",
   "execution_count": 23,
   "id": "f87fde29",
   "metadata": {},
   "outputs": [
    {
     "data": {
      "text/plain": [
       "0.14102504148614803"
      ]
     },
     "execution_count": 23,
     "metadata": {},
     "output_type": "execute_result"
    }
   ],
   "source": [
    "df5a['Coffee_Sales'].corr(df5a[\"Temperature\"])"
   ]
  },
  {
   "cell_type": "markdown",
   "id": "611d32db",
   "metadata": {},
   "source": [
    "This indicate a small degree of positive correlation between Coffee sales and Temperature."
   ]
  },
  {
   "cell_type": "code",
   "execution_count": 24,
   "id": "2c75e77b",
   "metadata": {},
   "outputs": [],
   "source": [
    "df5=pd.read_csv('/Users/pc/Downloads/mtcars.csv')"
   ]
  },
  {
   "cell_type": "code",
   "execution_count": 25,
   "id": "f62641d0-8ad5-409f-a30f-c9af2c5187e5",
   "metadata": {
    "id": "f62641d0-8ad5-409f-a30f-c9af2c5187e5"
   },
   "outputs": [
    {
     "data": {
      "image/png": "[encoded data removed]",
      "text/plain": [
       "<Figure size 1000x600 with 2 Axes>"
      ]
     },
     "metadata": {},
     "output_type": "display_data"
    }
   ],
   "source": [
    "#heatmap\n",
    "# Select only numeric columns\n",
    "numeric_df = df5.select_dtypes(include=[np.number])\n",
    "# Create a heatmap\n",
    "plt.figure(figsize=(10, 6))\n",
    "sns.heatmap(numeric_df, annot=True, cmap='coolwarm', linewidths=.5)\n",
    "plt.title('Heatmap of Numeric Columns')\n",
    "plt.show()\n"
   ]
  },
  {
   "cell_type": "markdown",
   "id": "ef0edd45-ce1c-4536-940e-027a49a38203",
   "metadata": {
    "id": "ef0edd45-ce1c-4536-940e-027a49a38203"
   },
   "source": [
    "### Problem 6: Hypothesis testing\n",
    "Imagine a company, samsung, that manufactures a popular smartphone. They have introduced a new battery designed to last longer than the previous model, which had an average battery life of 10 hours. To determine if the new battery indeed lasts longer, samsung conducts a study where they test 30 smartphones with the new battery and record their battery life. The goal is to test the hypothesis that the mean battery life of the new batteries is greater than 10 hours using a one-tailed test."
   ]
  },
  {
   "cell_type": "markdown",
   "id": "b4fff557-adff-474c-818f-3f225e9d2fcb",
   "metadata": {
    "id": "b4fff557-adff-474c-818f-3f225e9d2fcb"
   },
   "source": [
    "Hypothesis:\n",
    "- Null Hypothesis (H₀): The mean battery life of the new battery is 10 hours.\n",
    "- Alternative Hypothesis (H₁): The mean battery life of the new battery is greater than 10 hours."
   ]
  },
  {
   "cell_type": "code",
   "execution_count": 26,
   "id": "572cd556-ae7d-4999-912d-1e0a773f1739",
   "metadata": {
    "id": "572cd556-ae7d-4999-912d-1e0a773f1739"
   },
   "outputs": [
    {
     "name": "stdout",
     "output_type": "stream",
     "text": [
      "[15.99342831 14.7234714  16.29537708 18.04605971 14.53169325 14.53172609\n",
      " 18.15842563 16.53486946 14.06105123 16.08512009 14.07316461 14.06854049\n",
      " 15.48392454 11.17343951 11.55016433 13.87542494 12.97433776 15.62849467\n",
      " 13.18395185 12.1753926  17.93129754 14.5484474  15.13505641 12.15050363\n",
      " 13.91123455 15.22184518 12.69801285 15.75139604 13.79872262 14.4166125 ]\n",
      "The t value is : 14.309909271303232\n"
     ]
    }
   ],
   "source": [
    "import numpy as np\n",
    "np.random.seed(42)\n",
    "num=30\n",
    "assumed_mean=10\n",
    "#loc for mean.scale for standard deviation\n",
    "test_sample=np.random.normal(loc=15,scale=2,size=num)\n",
    "print(test_sample)\n",
    "observed_mean=np.mean(test_sample)\n",
    "standard_dev=np.std(test_sample)\n",
    "t=(observed_mean-assumed_mean)/(standard_dev/np.sqrt(num))\n",
    "print(f\"The t value is : {t}\")\n"
   ]
  },
  {
   "cell_type": "markdown",
   "id": "38615118",
   "metadata": {
    "id": "4e2060d2-5e96-4f05-b5ba-5fc4fdfb1b24"
   },
   "source": [
    "# Finding the critical value from the t_table"
   ]
  },
  {
   "cell_type": "code",
   "execution_count": 27,
   "id": "0dd115b6",
   "metadata": {},
   "outputs": [
    {
     "name": "stdout",
     "output_type": "stream",
     "text": [
      "Null Hypothesis is rejected! Battery life has signifiantly improved.\n"
     ]
    }
   ],
   "source": [
    "#alpha=0.05\n",
    "#degree=30-1=29\n",
    "critical_value = 1.699\n",
    "if(t > critical_value):\n",
    "    print(\"Null Hypothesis is rejected! Battery life has signifiantly improved.\")\n",
    "else:\n",
    "    print(\"Null Hypothesis is accepted! Battery life has no significant improvement.\")"
   ]
  },
  {
   "cell_type": "markdown",
   "id": "zVgJm65-oTnO",
   "metadata": {
    "id": "zVgJm65-oTnO"
   },
   "source": [
    "## Summarizing categorical variables\n",
    "\n",
    "1. Frequency table\n",
    "\t1. Value count of blood type\n",
    "\t2. Value count of gender\n",
    "\t3. Value count as proportions\n",
    "2. Contengency table\n",
    "\t1. Cross table of bloodtype and gender\n",
    "\t2. explore margins\n",
    "3.\n",
    "## Interval Estimation of the Proportion\n",
    "\n",
    "```\n",
    "HINT: explore st.norm.interval\n",
    "```\n",
    "\n",
    "1.  There are two candidates for the election: A and B.\n",
    "The candidate A wants to survey his approval rating.\n",
    "Out of 100 suerveyed, 55 answered positively.\n",
    "Can A be sure of this election?\n",
    "- Assume that A gets elected with 50% or more.\n",
    "- Use 95% confidence interval.\n",
    "\n",
    "\n",
    "\n",
    "2. Out of 1000 suerveyed, 550 answered positively. Can A be sure of this election?\n",
    "- Assume that A gets elected with 50% or more.\n",
    "- Use 95% confidence interval.\n",
    "\n",
    "\n",
    "### How can we know that the three groups are same or different?\n",
    "\n",
    "- There are three groups of students. The data corresponds to the test scores. Determine whether there is any significant difference in the group test scores.\n",
    "```python\n",
    "# Data\n",
    "x1 = np.array([82,93,61,74,69,70,53])\n",
    "x2 = np.array([71,62,85,94,78,66,71])\n",
    "x3 = np.array([64,73,87,91,56,78,87])\n",
    "```\n"
   ]
  },
  {
   "cell_type": "markdown",
   "id": "a88b592b",
   "metadata": {
    "id": "KAvZSC9woUF7"
   },
   "source": [
    "# Question 1"
   ]
  },
  {
   "cell_type": "code",
   "execution_count": 28,
   "id": "d7a529cd",
   "metadata": {},
   "outputs": [
    {
     "name": "stdout",
     "output_type": "stream",
     "text": [
      "1.0000000000000009\n"
     ]
    }
   ],
   "source": [
    "#NUllHypothesi h0: p>=0.5\n",
    "#h1:p<=0.5\n",
    "sample_no=100\n",
    "success=55\n",
    "sample_prop=success/sample_no\n",
    "pop_prop=0.5 \n",
    "z_calc=(sample_prop-pop_prop)/np.sqrt(pop_prop*((1-pop_prop)/sample_no))\n",
    "print(z_calc)"
   ]
  },
  {
   "cell_type": "code",
   "execution_count": 29,
   "id": "5ea98c68",
   "metadata": {},
   "outputs": [
    {
     "name": "stdout",
     "output_type": "stream",
     "text": [
      "Null hypothesis is rejected.A is not sure to win the election\n"
     ]
    }
   ],
   "source": [
    "z_value=1.96\n",
    "if z_calc>z_value:\n",
    "  print(\"Null hypothesis is accepted.A will win the election\")\n",
    "else:\n",
    "  print(\"Null hypothesis is rejected.A is not sure to win the election\")"
   ]
  },
  {
   "cell_type": "markdown",
   "id": "9ed632db",
   "metadata": {},
   "source": [
    "# Using st.norm.interval"
   ]
  },
  {
   "cell_type": "code",
   "execution_count": 30,
   "id": "1f8989c7",
   "metadata": {},
   "outputs": [
    {
     "name": "stdout",
     "output_type": "stream",
     "text": [
      "(0.45200180077299734, 0.6479981992270027)\n"
     ]
    }
   ],
   "source": [
    "import scipy.stats as st\n",
    "sample_no=100\n",
    "success=55\n",
    "sample_prop=success/sample_no\n",
    "c_l=0.95\n",
    "standard_error=np.sqrt(pop_prop*((1-pop_prop)/sample_no))\n",
    "c_i=st.norm.interval(c_l,loc=sample_prop,scale=standard_error)\n",
    "print(c_i)"
   ]
  },
  {
   "cell_type": "code",
   "execution_count": 31,
   "id": "b295b123",
   "metadata": {},
   "outputs": [
    {
     "name": "stdout",
     "output_type": "stream",
     "text": [
      "The candidate A is not sure to  win the election.\n"
     ]
    }
   ],
   "source": [
    "if c_i[0]>0.5:\n",
    "  print(\"The candidate A will win the election.\")\n",
    "else:\n",
    "    print(\"The candidate A is not sure to  win the election.\")\n"
   ]
  },
  {
   "cell_type": "markdown",
   "id": "05915ac6",
   "metadata": {},
   "source": [
    "# Question 2"
   ]
  },
  {
   "cell_type": "code",
   "execution_count": 32,
   "id": "8616a54b",
   "metadata": {},
   "outputs": [
    {
     "name": "stdout",
     "output_type": "stream",
     "text": [
      "3.162277660168382\n"
     ]
    }
   ],
   "source": [
    "#NUllHypothesi h0: p>=0.5\n",
    "#h1:p<=0.5\n",
    "sample_no=1000\n",
    "success=550\n",
    "sample_prop=success/sample_no\n",
    "pop_prop=0.5 \n",
    "z_calc=(sample_prop-pop_prop)/np.sqrt(pop_prop*((1-pop_prop)/sample_no))\n",
    "print(z_calc)"
   ]
  },
  {
   "cell_type": "code",
   "execution_count": 33,
   "id": "b5eed8f9",
   "metadata": {},
   "outputs": [
    {
     "name": "stdout",
     "output_type": "stream",
     "text": [
      "Null hypothesis is accepted.A will win the election\n"
     ]
    }
   ],
   "source": [
    "z_value=1.96\n",
    "if z_calc>z_value:\n",
    "  print(\"Null hypothesis is accepted.A will win the election\")\n",
    "else:\n",
    "  print(\"Null hypothesis is rejected.A is not sure to win the election\")"
   ]
  },
  {
   "cell_type": "markdown",
   "id": "7906a233",
   "metadata": {},
   "source": [
    "# Using st.norm.interval"
   ]
  },
  {
   "cell_type": "code",
   "execution_count": 34,
   "id": "7c9d9e7f",
   "metadata": {},
   "outputs": [
    {
     "name": "stdout",
     "output_type": "stream",
     "text": [
      "(0.5190102483847719, 0.5809897516152281)\n"
     ]
    }
   ],
   "source": [
    "import scipy.stats as st\n",
    "sample_no=1000\n",
    "success=550\n",
    "sample_prop=success/sample_no\n",
    "c_l=0.95\n",
    "standard_error=np.sqrt(pop_prop*((1-pop_prop)/sample_no))\n",
    "c_i=st.norm.interval(c_l,loc=sample_prop,scale=standard_error)\n",
    "print(c_i)"
   ]
  },
  {
   "cell_type": "code",
   "execution_count": 35,
   "id": "974a66db",
   "metadata": {},
   "outputs": [
    {
     "name": "stdout",
     "output_type": "stream",
     "text": [
      "The candidate A will win the election.\n"
     ]
    }
   ],
   "source": [
    "if c_i[0]>0.5:\n",
    "  print(\"The candidate A will win the election.\")\n",
    "else:\n",
    "    print(\"The candidate A is not sure to  win the election.\")"
   ]
  },
  {
   "cell_type": "markdown",
   "id": "3964b5a4",
   "metadata": {},
   "source": [
    "# Question 3"
   ]
  },
  {
   "cell_type": "code",
   "execution_count": 36,
   "id": "402b75b9",
   "metadata": {},
   "outputs": [],
   "source": [
    "x1 = np.array([82,93,61,74,69,70,53])\n",
    "x2 = np.array([71,62,85,94,78,66,71])\n",
    "x3 = np.array([64,73,87,91,56,78,87])"
   ]
  },
  {
   "cell_type": "code",
   "execution_count": 37,
   "id": "8c94a3cf",
   "metadata": {},
   "outputs": [
    {
     "name": "stdout",
     "output_type": "stream",
     "text": [
      "One-way ANOVA Results:\n",
      "  F-statistic: 0.2837\n",
      "  p-value: 0.7563\n",
      "There is not enough evidence to reject the null hypothesis.\n",
      "There is no significant difference in the group test scores.\n"
     ]
    }
   ],
   "source": [
    "# Perform one-way ANOVA\n",
    "statistic, p_value = st.f_oneway(x1, x2, x3)\n",
    "\n",
    "# Print the results\n",
    "print(f\"One-way ANOVA Results:\")\n",
    "print(f\"  F-statistic: {statistic:.4f}\")\n",
    "print(f\"  p-value: {p_value:.4f}\")\n",
    "\n",
    "# Determine significance\n",
    "alpha = 0.05\n",
    "if p_value < alpha:\n",
    "    print(\"There is significant evidence to reject the null hypothesis.\")\n",
    "    print(\"There is a significant difference in the group test scores.\")\n",
    "else:\n",
    "    print(\"There is not enough evidence to reject the null hypothesis.\")\n",
    "    print(\"There is no significant difference in the group test scores.\")"
   ]
  },
  {
   "cell_type": "markdown",
   "id": "28d01cbf",
   "metadata": {},
   "source": [
    "Based on the output of the ANOVA test, if the p-value is less than 0.05, we would conclude that there is a significant difference in the test scores between the three groups of students. If the p-value is greater than 0.05, we would conclude that there is no significant difference in the test scores between the groups."
   ]
  }
 ],
 "metadata": {
  "colab": {
   "provenance": []
  },
  "kernelspec": {
   "display_name": "Python 3 (ipykernel)",
   "language": "python",
   "name": "python3"
  },
  "language_info": {
   "codemirror_mode": {
    "name": "ipython",
    "version": 3
   },
   "file_extension": ".py",
   "mimetype": "text/x-python",
   "name": "python",
   "nbconvert_exporter": "python",
   "pygments_lexer": "ipython3",
   "version": "3.10.9"
  }
 },
 "nbformat": 4,
 "nbformat_minor": 5
}
