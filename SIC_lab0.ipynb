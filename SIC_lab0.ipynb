{
 "cells": [
  {
   "cell_type": "markdown",
   "id": "2cf8e462",
   "metadata": {},
   "source": [
    "# Find all the element in a list which have been repeated eg. [1,2,3,1,3,4,5,6,4] repeated elements are : [1,3,4]"
   ]
  },
  {
   "cell_type": "code",
   "execution_count": 1,
   "id": "02144d15",
   "metadata": {},
   "outputs": [
    {
     "name": "stdout",
     "output_type": "stream",
     "text": [
      "{1: 2, 2: 1, 3: 2, 4: 2, 5: 1, 6: 1}\n",
      "[1, 3, 4]\n"
     ]
    }
   ],
   "source": [
    "list1=[1,2,3,1,3,4,5,6,4]\n",
    "list2=[]\n",
    "frequency={}\n",
    "count=0\n",
    "for item in list1:\n",
    "    if item in frequency:\n",
    "        frequency[item]+=1\n",
    "        list2.append(item)\n",
    "    else:\n",
    "        frequency[item]=1\n",
    "print(frequency)\n",
    "print(list2)\n"
   ]
  },
  {
   "cell_type": "markdown",
   "id": "b8ad3bea",
   "metadata": {},
   "source": [
    "The time complexity of above program O(n)."
   ]
  },
  {
   "cell_type": "markdown",
   "id": "ba61e85b",
   "metadata": {},
   "source": [
    "# Write a function to check if a given number is prime or not.\n"
   ]
  },
  {
   "cell_type": "code",
   "execution_count": 2,
   "id": "d76e5bba",
   "metadata": {},
   "outputs": [],
   "source": [
    "def check_prime(no):\n",
    "    count =0\n",
    "    for i in range(no):\n",
    "        if (i==0 or i==1):\n",
    "            continue\n",
    "        else:\n",
    "            if(no%i==0):\n",
    "                count=count+1\n",
    "    if(count==0):\n",
    "        print(\"The given number is prime.\")\n",
    "    else:\n",
    "        print(\"The given number is not prime.\")\n",
    "        "
   ]
  },
  {
   "cell_type": "code",
   "execution_count": 3,
   "id": "0f6f37e7",
   "metadata": {},
   "outputs": [
    {
     "name": "stdout",
     "output_type": "stream",
     "text": [
      "The given number is not prime.\n"
     ]
    }
   ],
   "source": [
    "check_prime(4)"
   ]
  },
  {
   "cell_type": "code",
   "execution_count": 4,
   "id": "878ae5d8",
   "metadata": {},
   "outputs": [
    {
     "name": "stdout",
     "output_type": "stream",
     "text": [
      "The given number is not prime.\n"
     ]
    }
   ],
   "source": [
    "check_prime(12)"
   ]
  },
  {
   "cell_type": "markdown",
   "id": "cbe9c462",
   "metadata": {},
   "source": [
    "# Find the most similarity documents among 5 documents[ Document 1 , Document2, ... Documnet 5 ]\n"
   ]
  },
  {
   "cell_type": "code",
   "execution_count": 7,
   "id": "488328a0",
   "metadata": {},
   "outputs": [],
   "source": [
    "import numpy as np\n",
    "document1=np.random.rand(124)\n",
    "document2=np.random.rand(124)\n",
    "document3=np.random.rand(124)\n",
    "document4=np.random.rand(124)\n",
    "document5=np.random.rand(124)\n",
    "document=[document1,document2,document3,document4,document5]"
   ]
  },
  {
   "cell_type": "code",
   "execution_count": 10,
   "id": "7dc0a19a",
   "metadata": {},
   "outputs": [],
   "source": [
    "num_documents=len(document)\n",
    "min_distance=float('inf')\n",
    "min_pair=(None,None)\n",
    "for i in range(num_documents):\n",
    "    for j in range(i+1,num_documents):\n",
    "        distance=np.linalg.norm(document[i]-document[j])\n",
    "        if (distance<min_distance):\n",
    "            min_distance=distance\n",
    "            min_pair=(i,j)\n",
    "        "
   ]
  },
  {
   "cell_type": "code",
   "execution_count": 14,
   "id": "ede547ac",
   "metadata": {},
   "outputs": [
    {
     "name": "stdout",
     "output_type": "stream",
     "text": [
      "The minimum distance is between (2, 3) which is 3.865631344554448\n"
     ]
    }
   ],
   "source": [
    "print(f\"The minimum distance is between {min_pair} which is {min_distance}\")"
   ]
  },
  {
   "cell_type": "markdown",
   "id": "cf645ca1",
   "metadata": {},
   "source": [
    "# Create a numpy array containing marks for 100 students for 5 subjects."
   ]
  },
  {
   "cell_type": "code",
   "execution_count": 20,
   "id": "701b8421",
   "metadata": {},
   "outputs": [
    {
     "name": "stdout",
     "output_type": "stream",
     "text": [
      "(100, 5)\n",
      "<class 'numpy.ndarray'>\n",
      "int64\n"
     ]
    }
   ],
   "source": [
    "marks=np.random.randint(0,100,size=(100,5))\n",
    "print(marks.shape)\n",
    "print(type(marks))\n",
    "print(marks.dtype)"
   ]
  },
  {
   "cell_type": "code",
   "execution_count": 25,
   "id": "02c56e85",
   "metadata": {},
   "outputs": [
    {
     "name": "stdout",
     "output_type": "stream",
     "text": [
      "The maximum marks in 5 subject are [98 98 99 98 99] and the minimum marks in 5 subjects are [0 0 1 1 1]\n"
     ]
    }
   ],
   "source": [
    "maximum_in_5_sub=np.max(marks,0)\n",
    "minimum_in_5_sub=np.min(marks,0)\n",
    "print(f\"The maximum marks in 5 subject are {maximum_in_5_sub} and the minimum marks in 5 subjects are {minimum_in_5_sub}\")"
   ]
  },
  {
   "cell_type": "code",
   "execution_count": 36,
   "id": "77baa48b",
   "metadata": {},
   "outputs": [
    {
     "name": "stdout",
     "output_type": "stream",
     "text": [
      "1 Mean:48.0,Median:47.0,Mode:39\n",
      "2 Mean:45.6,Median:74.0,Mode:74\n",
      "3 Mean:68.6,Median:69.0,Mode:30\n",
      "4 Mean:41.6,Median:37.0,Mode:11\n",
      "5 Mean:54.0,Median:47.0,Mode:18\n",
      "6 Mean:50.8,Median:49.0,Mode:49\n",
      "7 Mean:47.6,Median:41.0,Mode:23\n",
      "8 Mean:53.8,Median:52.0,Mode:15\n",
      "9 Mean:59.6,Median:53.0,Mode:32\n",
      "10 Mean:36.4,Median:23.0,Mode:7\n",
      "11 Mean:42.0,Median:42.0,Mode:3\n",
      "12 Mean:54.2,Median:40.0,Mode:19\n",
      "13 Mean:63.6,Median:77.0,Mode:24\n",
      "14 Mean:67.4,Median:70.0,Mode:40\n",
      "15 Mean:43.0,Median:37.0,Mode:11\n",
      "16 Mean:59.2,Median:60.0,Mode:1\n",
      "17 Mean:49.2,Median:40.0,Mode:33\n",
      "18 Mean:52.2,Median:78.0,Mode:1\n",
      "19 Mean:71.0,Median:78.0,Mode:29\n",
      "20 Mean:65.4,Median:88.0,Mode:21\n",
      "21 Mean:59.2,Median:54.0,Mode:49\n",
      "22 Mean:36.4,Median:21.0,Mode:6\n",
      "23 Mean:43.0,Median:30.0,Mode:3\n",
      "24 Mean:50.0,Median:41.0,Mode:11\n",
      "25 Mean:45.2,Median:50.0,Mode:21\n",
      "26 Mean:73.2,Median:84.0,Mode:25\n",
      "27 Mean:49.0,Median:39.0,Mode:29\n",
      "28 Mean:42.0,Median:35.0,Mode:16\n",
      "29 Mean:66.4,Median:71.0,Mode:21\n",
      "30 Mean:47.0,Median:54.0,Mode:16\n",
      "31 Mean:53.0,Median:38.0,Mode:30\n",
      "32 Mean:58.8,Median:61.0,Mode:25\n",
      "33 Mean:60.6,Median:63.0,Mode:18\n",
      "34 Mean:44.2,Median:20.0,Mode:7\n",
      "35 Mean:51.4,Median:64.0,Mode:8\n",
      "36 Mean:64.2,Median:85.0,Mode:21\n",
      "37 Mean:52.6,Median:60.0,Mode:28\n",
      "38 Mean:65.8,Median:68.0,Mode:44\n",
      "39 Mean:50.6,Median:51.0,Mode:38\n",
      "40 Mean:37.6,Median:35.0,Mode:1\n",
      "41 Mean:63.2,Median:67.0,Mode:38\n",
      "42 Mean:71.0,Median:92.0,Mode:24\n",
      "43 Mean:51.2,Median:48.0,Mode:14\n",
      "44 Mean:36.6,Median:23.0,Mode:7\n",
      "45 Mean:42.6,Median:41.0,Mode:8\n",
      "46 Mean:35.6,Median:29.0,Mode:29\n",
      "47 Mean:63.2,Median:69.0,Mode:41\n",
      "48 Mean:34.4,Median:33.0,Mode:2\n",
      "49 Mean:51.8,Median:74.0,Mode:5\n",
      "50 Mean:69.6,Median:69.0,Mode:69\n",
      "51 Mean:23.0,Median:24.0,Mode:3\n",
      "52 Mean:48.0,Median:31.0,Mode:5\n",
      "53 Mean:56.0,Median:62.0,Mode:12\n",
      "54 Mean:55.6,Median:78.0,Mode:1\n",
      "55 Mean:60.6,Median:56.0,Mode:47\n",
      "56 Mean:25.6,Median:15.0,Mode:3\n",
      "57 Mean:63.8,Median:58.0,Mode:44\n",
      "58 Mean:32.2,Median:39.0,Mode:9\n",
      "59 Mean:47.2,Median:54.0,Mode:77\n",
      "60 Mean:29.0,Median:18.0,Mode:10\n",
      "61 Mean:46.6,Median:36.0,Mode:20\n",
      "62 Mean:50.0,Median:51.0,Mode:6\n",
      "63 Mean:48.6,Median:40.0,Mode:4\n",
      "64 Mean:45.4,Median:34.0,Mode:4\n",
      "65 Mean:45.6,Median:62.0,Mode:70\n",
      "66 Mean:67.2,Median:73.0,Mode:8\n",
      "67 Mean:43.8,Median:38.0,Mode:6\n",
      "68 Mean:53.2,Median:61.0,Mode:14\n",
      "69 Mean:54.4,Median:54.0,Mode:20\n",
      "70 Mean:52.2,Median:60.0,Mode:5\n",
      "71 Mean:39.0,Median:32.0,Mode:5\n",
      "72 Mean:52.2,Median:56.0,Mode:23\n",
      "73 Mean:47.4,Median:59.0,Mode:12\n",
      "74 Mean:54.6,Median:69.0,Mode:3\n",
      "75 Mean:46.8,Median:60.0,Mode:10\n",
      "76 Mean:58.6,Median:60.0,Mode:32\n",
      "77 Mean:39.6,Median:51.0,Mode:14\n",
      "78 Mean:70.0,Median:66.0,Mode:55\n",
      "79 Mean:37.8,Median:34.0,Mode:0\n",
      "80 Mean:43.0,Median:38.0,Mode:11\n",
      "81 Mean:28.0,Median:24.0,Mode:1\n",
      "82 Mean:49.0,Median:27.0,Mode:12\n",
      "83 Mean:54.0,Median:58.0,Mode:3\n",
      "84 Mean:66.0,Median:75.0,Mode:17\n",
      "85 Mean:58.8,Median:78.0,Mode:5\n",
      "86 Mean:58.2,Median:61.0,Mode:41\n",
      "87 Mean:63.8,Median:62.0,Mode:53\n",
      "88 Mean:41.2,Median:23.0,Mode:8\n",
      "89 Mean:45.4,Median:47.0,Mode:13\n",
      "90 Mean:21.2,Median:26.0,Mode:0\n",
      "91 Mean:61.2,Median:58.0,Mode:32\n",
      "92 Mean:78.0,Median:82.0,Mode:82\n",
      "93 Mean:30.2,Median:19.0,Mode:4\n",
      "94 Mean:65.2,Median:60.0,Mode:37\n",
      "95 Mean:52.8,Median:49.0,Mode:33\n",
      "96 Mean:53.0,Median:47.0,Mode:35\n",
      "97 Mean:55.0,Median:57.0,Mode:27\n",
      "98 Mean:48.8,Median:51.0,Mode:18\n",
      "99 Mean:36.8,Median:20.0,Mode:2\n",
      "100 Mean:48.6,Median:62.0,Mode:16\n"
     ]
    }
   ],
   "source": [
    "from scipy import stats\n",
    "\n",
    "mean_of_each_student=np.mean(marks,axis=1)\n",
    "median_of_each_student=np.median(marks,axis=1)\n",
    "mode_of_each_student=stats.mode(marks,axis=1,keepdims=True)[0].flatten()\n",
    "for i in range(len(mean_of_each_student)):\n",
    "    print(f\"{i+1} Mean:{mean_of_each_student[i]},Median:{median_of_each_student[i]},Mode:{mode_of_each_student[i]}\")"
   ]
  },
  {
   "cell_type": "code",
   "execution_count": 46,
   "id": "2030cb7d",
   "metadata": {},
   "outputs": [
    {
     "name": "stdout",
     "output_type": "stream",
     "text": [
      "18\n"
     ]
    }
   ],
   "source": [
    "pass_count=0\n",
    "for i in range(100):\n",
    "    if((np.min(marks,1)[i])>32):\n",
    "        pass_count+=1\n",
    "print(pass_count)\n",
    "    "
   ]
  },
  {
   "cell_type": "markdown",
   "id": "1fcc2318",
   "metadata": {},
   "source": [
    "# Series Exploration"
   ]
  },
  {
   "cell_type": "code",
   "execution_count": 55,
   "id": "bff1f356",
   "metadata": {},
   "outputs": [],
   "source": [
    "import pandas as pd\n",
    "list_series=pd.Series([1,3,5,4])\n"
   ]
  },
  {
   "cell_type": "code",
   "execution_count": 56,
   "id": "3ffb1e6a",
   "metadata": {},
   "outputs": [],
   "source": [
    "dict_series=pd.Series({\"Sun\":25,\"Mon\":22,\"Tues\":11})"
   ]
  },
  {
   "cell_type": "code",
   "execution_count": 57,
   "id": "d235712e",
   "metadata": {},
   "outputs": [],
   "source": [
    "index_series=pd.Series([1,2,3,4],[\"Sun\",\"Mon\",\"Tues\",\"Wed\"])"
   ]
  },
  {
   "cell_type": "code",
   "execution_count": 63,
   "id": "3b392236",
   "metadata": {},
   "outputs": [
    {
     "name": "stdout",
     "output_type": "stream",
     "text": [
      "Sun     1\n",
      "Mon     2\n",
      "Tues    3\n",
      "Wed     4\n",
      "dtype: int64\n",
      "0    1\n",
      "1    3\n",
      "2    5\n",
      "3    4\n",
      "dtype: int64\n",
      "Sun     25\n",
      "Mon     22\n",
      "Tues    11\n",
      "dtype: int64\n"
     ]
    }
   ],
   "source": [
    "print(index_series)\n",
    "print(list_series)\n",
    "print(dict_series)\n"
   ]
  },
  {
   "cell_type": "code",
   "execution_count": 64,
   "id": "1f403800",
   "metadata": {},
   "outputs": [
    {
     "name": "stdout",
     "output_type": "stream",
     "text": [
      "Index(['Sun', 'Mon', 'Tues', 'Wed'], dtype='object')\n",
      "RangeIndex(start=0, stop=4, step=1)\n",
      "Index(['Sun', 'Mon', 'Tues'], dtype='object')\n"
     ]
    }
   ],
   "source": [
    "print(index_series.index)\n",
    "print(list_series.index)\n",
    "print(dict_series.index)\n"
   ]
  },
  {
   "cell_type": "code",
   "execution_count": 65,
   "id": "3d2cac1a",
   "metadata": {},
   "outputs": [
    {
     "name": "stdout",
     "output_type": "stream",
     "text": [
      "Addition Result:\n",
      "0    11\n",
      "1    22\n",
      "2    33\n",
      "3    44\n",
      "4    55\n",
      "dtype: int64\n",
      "\n",
      "Subtraction Result:\n",
      "0    -9\n",
      "1   -18\n",
      "2   -27\n",
      "3   -36\n",
      "4   -45\n",
      "dtype: int64\n",
      "\n",
      "Multiplication Result:\n",
      "0     10\n",
      "1     40\n",
      "2     90\n",
      "3    160\n",
      "4    250\n",
      "dtype: int64\n"
     ]
    }
   ],
   "source": [
    "series1 = pd.Series([1, 2, 3, 4, 5])\n",
    "series2 = pd.Series([10, 20, 30, 40, 50])\n",
    "\n",
    "# Addition\n",
    "addition_result = series1 + series2\n",
    "print(\"Addition Result:\")\n",
    "print(addition_result)\n",
    "\n",
    "# Subtraction\n",
    "subtraction_result = series1 - series2\n",
    "print(\"\\nSubtraction Result:\")\n",
    "print(subtraction_result)\n",
    "\n",
    "# Multiplication\n",
    "multiplication_result = series1 * series2\n",
    "print(\"\\nMultiplication Result:\")\n",
    "print(multiplication_result)"
   ]
  },
  {
   "cell_type": "code",
   "execution_count": 69,
   "id": "732e52f2",
   "metadata": {},
   "outputs": [
    {
     "data": {
      "text/plain": [
       "0    1\n",
       "1    2\n",
       "2    3\n",
       "3    4\n",
       "dtype: int64"
      ]
     },
     "execution_count": 69,
     "metadata": {},
     "output_type": "execute_result"
    }
   ],
   "source": [
    "series1[:-1]"
   ]
  },
  {
   "cell_type": "code",
   "execution_count": 77,
   "id": "353a2e01",
   "metadata": {},
   "outputs": [
    {
     "name": "stdout",
     "output_type": "stream",
     "text": [
      "Mean:3.0 Sum:15 Min:1 Max:5 STD:1.5811388300841898\n"
     ]
    }
   ],
   "source": [
    "print(f\"Mean:{series1.mean()} Sum:{series1.sum()} Min:{series1.min()} Max:{series1.max()} STD:{series1.std()}\")"
   ]
  },
  {
   "cell_type": "code",
   "execution_count": 84,
   "id": "c162d325",
   "metadata": {},
   "outputs": [],
   "source": [
    "sorted1=list_series.sort_values()"
   ]
  },
  {
   "cell_type": "code",
   "execution_count": 85,
   "id": "69875a9e",
   "metadata": {},
   "outputs": [
    {
     "name": "stdout",
     "output_type": "stream",
     "text": [
      "0    1\n",
      "1    3\n",
      "3    4\n",
      "2    5\n",
      "dtype: int64\n"
     ]
    }
   ],
   "source": [
    "print(sorted1)"
   ]
  },
  {
   "cell_type": "code",
   "execution_count": 88,
   "id": "02930dcb",
   "metadata": {},
   "outputs": [
    {
     "data": {
      "text/plain": [
       "Mon     2\n",
       "Sun     1\n",
       "Tues    3\n",
       "Wed     4\n",
       "dtype: int64"
      ]
     },
     "execution_count": 88,
     "metadata": {},
     "output_type": "execute_result"
    }
   ],
   "source": [
    "index_series.sort_index()"
   ]
  },
  {
   "cell_type": "markdown",
   "id": "857c3a5d",
   "metadata": {},
   "source": [
    "# DataFrame Basics"
   ]
  },
  {
   "cell_type": "code",
   "execution_count": 89,
   "id": "040374c2",
   "metadata": {},
   "outputs": [],
   "source": [
    "my_dict = {\n",
    "    \"name\": \"John\",\n",
    "    \"age\": 30,\n",
    "    \"city\": \"New York\"\n",
    "}"
   ]
  },
  {
   "cell_type": "code",
   "execution_count": 91,
   "id": "719c7b35",
   "metadata": {},
   "outputs": [
    {
     "name": "stdout",
     "output_type": "stream",
     "text": [
      "   name  age      city\n",
      "0  John   30  New York\n"
     ]
    }
   ],
   "source": [
    "df = pd.DataFrame([my_dict])\n",
    "print(df)"
   ]
  },
  {
   "cell_type": "code",
   "execution_count": 98,
   "id": "6bf55b67",
   "metadata": {},
   "outputs": [
    {
     "name": "stdout",
     "output_type": "stream",
     "text": [
      "   dataframe\n",
      "0          1\n",
      "1          2\n",
      "2          3\n",
      "3          4\n",
      "4          5\n",
      "5          3\n",
      "6          2\n"
     ]
    }
   ],
   "source": [
    "array1=np.array([1,2,3,4,5,3,2])\n",
    "df1=pd.DataFrame(array1,columns=['dataframe'])\n",
    "print(df1)"
   ]
  }
 ],
 "metadata": {
  "kernelspec": {
   "display_name": "Python 3 (ipykernel)",
   "language": "python",
   "name": "python3"
  },
  "language_info": {
   "codemirror_mode": {
    "name": "ipython",
    "version": 3
   },
   "file_extension": ".py",
   "mimetype": "text/x-python",
   "name": "python",
   "nbconvert_exporter": "python",
   "pygments_lexer": "ipython3",
   "version": "3.10.9"
  }
 },
 "nbformat": 4,
 "nbformat_minor": 5
}
